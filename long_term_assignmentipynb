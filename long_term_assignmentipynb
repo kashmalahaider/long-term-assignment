{
 "cells": [
  {
   "cell_type": "code",
   "execution_count": null,
   "id": "27843b6c-9397-4042-a6b4-3cb4d8e9b225",
   "metadata": {},
   "outputs": [],
   "source": [
    "#Question no 01:\n",
    "\n",
    "for num in range(2000, 3201):\n",
    "    if num % 7 == 0 and num % 5 != 0:\n",
    "    \n",
    "\n"
   ]
  },
  {
   "cell_type": "code",
   "execution_count": null,
   "id": "95829556-e584-4c0b-9b5f-8ce69732f960",
   "metadata": {},
   "outputs": [],
   "source": [
    "print(num)"
   ]
  },
  {
   "cell_type": "code",
   "execution_count": null,
   "id": "89b010c6-e5d1-4e78-9888-85624737f4d3",
   "metadata": {},
   "outputs": [],
   "source": []
  }
 ],
 "metadata": {
  "kernelspec": {
   "display_name": "Python 3 (ipykernel)",
   "language": "python",
   "name": "python3"
  },
  "language_info": {
   "codemirror_mode": {
    "name": "ipython",
    "version": 3
   },
   "file_extension": ".py",
   "mimetype": "text/x-python",
   "name": "python",
   "nbconvert_exporter": "python",
   "pygments_lexer": "ipython3",
   "version": "3.11.7"
  }
 },
 "nbformat": 4,
 "nbformat_minor": 5
}
